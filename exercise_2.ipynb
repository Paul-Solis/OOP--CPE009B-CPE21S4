{
  "nbformat": 4,
  "nbformat_minor": 0,
  "metadata": {
    "colab": {
      "provenance": [],
      "authorship_tag": "ABX9TyO3m1AUFV428iQkqus6ztEc",
      "include_colab_link": true
    },
    "kernelspec": {
      "name": "python3",
      "display_name": "Python 3"
    },
    "language_info": {
      "name": "python"
    }
  },
  "cells": [
    {
      "cell_type": "markdown",
      "metadata": {
        "id": "view-in-github",
        "colab_type": "text"
      },
      "source": [
        "<a href=\"https://colab.research.google.com/github/Paul-Solis/OOP--CPE009B-CPE21S4/blob/main/exercise_2.ipynb\" target=\"_parent\"><img src=\"https://colab.research.google.com/assets/colab-badge.svg\" alt=\"Open In Colab\"/></a>"
      ]
    },
    {
      "cell_type": "code",
      "execution_count": 8,
      "metadata": {
        "colab": {
          "base_uri": "https://localhost:8080/"
        },
        "id": "1f7wZplPWOyf",
        "outputId": "76b8950c-ae4d-4133-d00a-d1e6071bed26"
      },
      "outputs": [
        {
          "output_type": "execute_result",
          "data": {
            "text/plain": [
              "7"
            ]
          },
          "metadata": {},
          "execution_count": 8
        }
      ],
      "source": [
        "class foo:\n",
        "  def __init__ (self,a,b):\n",
        "      self.a=a\n",
        "      self.b=b\n",
        "  def add (self):\n",
        "    return self.a+self.b\n",
        "foo_object=foo(3,4)\n",
        "foo_object.add()\n",
        "\n"
      ]
    },
    {
      "cell_type": "code",
      "source": [
        "#Example 2\n",
        "#Complete the program by adding object name and\n",
        "#print output variable that display the instance/behavior of every function\n",
        "#Apply encapsulation by typing _ single underscore for private variable\n",
        "\n",
        "class Counter:\n",
        "  def __init__(self):\n",
        "    self.current = 0\n",
        "\n",
        "  def increment(self):\n",
        "    self.current += 1\n",
        "    return self.current\n",
        "\n",
        "  def value(self):\n",
        "   return self.current\n",
        "\n",
        "  def reset(self):\n",
        "   self.current = 0\n",
        "\n",
        "counter = Counter()\n",
        "\n",
        "print(counter.current)\n",
        "print(counter.increment())\n",
        "print(counter.value())"
      ],
      "metadata": {
        "colab": {
          "base_uri": "https://localhost:8080/"
        },
        "id": "U9v2jm5JbHrG",
        "outputId": "02e58367-3606-4f9b-b177-a973de8497fd"
      },
      "execution_count": 15,
      "outputs": [
        {
          "output_type": "stream",
          "name": "stdout",
          "text": [
            "0\n",
            "1\n",
            "1\n"
          ]
        }
      ]
    }
  ]
}