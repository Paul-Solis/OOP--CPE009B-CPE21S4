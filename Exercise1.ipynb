{
  "nbformat": 4,
  "nbformat_minor": 0,
  "metadata": {
    "colab": {
      "provenance": [],
      "include_colab_link": true
    },
    "kernelspec": {
      "name": "python3",
      "display_name": "Python 3"
    },
    "language_info": {
      "name": "python"
    }
  },
  "cells": [
    {
      "cell_type": "markdown",
      "metadata": {
        "id": "view-in-github",
        "colab_type": "text"
      },
      "source": [
        "<a href=\"https://colab.research.google.com/github/Paul-Solis/OOP--CPE009B-CPE21S4/blob/main/Exercise1.ipynb\" target=\"_parent\"><img src=\"https://colab.research.google.com/assets/colab-badge.svg\" alt=\"Open In Colab\"/></a>"
      ]
    },
    {
      "cell_type": "code",
      "execution_count": null,
      "metadata": {
        "colab": {
          "base_uri": "https://localhost:8080/"
        },
        "id": "LMW7Z2SHFslm",
        "outputId": "eca7306c-0856-4664-94ba-c2a417a8873a"
      },
      "outputs": [
        {
          "output_type": "stream",
          "name": "stdout",
          "text": [
            "1\n"
          ]
        }
      ],
      "source": [
        "class Number:\n",
        "  def __init__(self, x):\n",
        "    self.x = x\n",
        "  x = 1\n",
        "  print(x)"
      ]
    },
    {
      "cell_type": "code",
      "source": [
        "class Person:\n",
        "  def __init__(self, name, age, birthdate):\n",
        "    self.name = name\n",
        "    self.age = age\n",
        "    self.birthdate = birthdate\n",
        "\n",
        "  def person_attributes(self):  #method constructor\n",
        "    return f\"My name is {self.name} and with an age of {self.age} and birthdate of {self.birthdate}\"\n",
        "class Teacher(Person): #subclass\n",
        "  pass\n",
        "class Student(Person):\n",
        "  pass  #subclass\n",
        "\n",
        "#subject instantiation\n",
        "person = Person(\"Paul\", 16, \"December 13, 2007\")\n",
        "print(person.person_attributes())\n",
        "student = Student(\"erpat\", 25, \"October 1, 1913\")\n",
        "print(student.person_attributes())\n",
        "teacher = Teacher (\"Mam Sayo\", 40, \"June 24, 1983\")\n",
        "print(teacher.person_attributes())\n"
      ],
      "metadata": {
        "colab": {
          "base_uri": "https://localhost:8080/"
        },
        "id": "yTq0Od-WIACr",
        "outputId": "611ef9f7-6d9e-44ec-a3f1-88d721c4e96f"
      },
      "execution_count": null,
      "outputs": [
        {
          "output_type": "stream",
          "name": "stdout",
          "text": [
            "My name is Paul and with an age of 16 and birthdate of December 13, 2007\n",
            "My name is erpat and with an age of 25 and birthdate of October 1, 1913\n",
            "My name is Mam Sayo and with an age of 40 and birthdate of June 24, 1983\n"
          ]
        }
      ]
    },
    {
      "cell_type": "markdown",
      "source": [
        "CHALLENGING PYTHON PROBLEM:"
      ],
      "metadata": {
        "id": "hK8asr9_atlU"
      }
    },
    {
      "cell_type": "code",
      "source": [
        "class Shapes:\n",
        "  def __init__(self,side1,side2):\n",
        "    self.side1 = side1\n",
        "    self.side2 = side2\n",
        "\n",
        "  def Perimeter(self):\n",
        "    return 2*(self.side1 + self.side2)\n",
        "\n",
        "  def Area(self):\n",
        "    return (self.side1 * self.side2)\n",
        "\n",
        "\n",
        "class Rectangle(Shapes):\n",
        "  pass\n",
        "\n",
        "class Square(Shapes):\n",
        "  pass\n",
        "\n",
        "rectangle = Rectangle(5,10)\n",
        "\n",
        "print(\"Perimeter of the rectangle is: \", rectangle.Perimeter())\n",
        "print(\"The area of the rectangle is\", rectangle.Area())\n",
        "\n",
        "square = Square(10,10)\n",
        "print(\"Perimeter of the square is\", square.Perimeter())\n",
        "print(\"Area of the square is\", square.Area())"
      ],
      "metadata": {
        "id": "qSVLgnm-Urxf"
      },
      "execution_count": null,
      "outputs": []
    },
    {
      "cell_type": "code",
      "source": [],
      "metadata": {
        "id": "9iX-S3o3LMSJ"
      },
      "execution_count": null,
      "outputs": []
    }
  ]
}