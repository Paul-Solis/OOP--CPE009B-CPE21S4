{
  "nbformat": 4,
  "nbformat_minor": 0,
  "metadata": {
    "colab": {
      "provenance": [],
      "authorship_tag": "ABX9TyN6wZr/hXFZMGFLu9reC99C",
      "include_colab_link": true
    },
    "kernelspec": {
      "name": "python3",
      "display_name": "Python 3"
    },
    "language_info": {
      "name": "python"
    }
  },
  "cells": [
    {
      "cell_type": "markdown",
      "metadata": {
        "id": "view-in-github",
        "colab_type": "text"
      },
      "source": [
        "<a href=\"https://colab.research.google.com/github/Paul-Solis/OOP--CPE009B-CPE21S4/blob/main/Laboratory_Activity_3_Inheritance%2C_Encapsulation%2C_and_Abstractionipynb.ipynb\" target=\"_parent\"><img src=\"https://colab.research.google.com/assets/colab-badge.svg\" alt=\"Open In Colab\"/></a>"
      ]
    },
    {
      "cell_type": "code",
      "execution_count": 1,
      "metadata": {
        "colab": {
          "base_uri": "https://localhost:8080/"
        },
        "id": "4xRQ2ZVwpPZy",
        "outputId": "5e875eb3-bc36-431a-a75f-6960595649c4"
      },
      "outputs": [
        {
          "output_type": "stream",
          "name": "stdout",
          "text": [
            "John Doe's address: 123 Main St\n",
            "Jane Smith's address: 456 Oak Ave\n",
            "Salary ID: S123\n",
            "Salary: 1500\n",
            "Cut-off Date: 2023-12-31\n",
            "Days of Work: 20\n",
            "Salary ID: S456\n",
            "Salary: 500\n",
            "Cut-off Date: 2023-12-31\n",
            "Days of Work: 10\n"
          ]
        }
      ],
      "source": [
        "class Employee:\n",
        "  def __init__(self, emp_id, emp_name, emp_address):\n",
        "    self.emp_id = emp_id\n",
        "    self.emp_name = emp_name\n",
        "    self.emp_address = emp_address\n",
        "\n",
        "class Fulltime(Employee):\n",
        "  def __init__(self, emp_id, emp_name, emp_address, allowance, rate):\n",
        "    super().__init__(emp_id, emp_name, emp_address)\n",
        "    self.allowance = allowance\n",
        "    self.rate = rate\n",
        "\n",
        "class PartTime(Employee):\n",
        "  def __init__(self, emp_id, emp_name, emp_address, rate):\n",
        "    super().__init__(emp_id, emp_name, emp_address)\n",
        "    self.rate = rate\n",
        "\n",
        "class Salary:\n",
        "  def __init__(self, salary_id, salary, cut_off_date, days_of_work):\n",
        "    self.salary_id = salary_id\n",
        "    self.salary = salary\n",
        "    self.cut_off_date = cut_off_date\n",
        "    self.days_of_work = days_of_work\n",
        "\n",
        "# Example\n",
        "fulltime_emp = Fulltime(\"FT123\", \"John Doe\", \"123 Main St\", 1000, 50)\n",
        "parttime_emp = PartTime(\"PT456\", \"Jane Smith\", \"456 Oak Ave\", 25)\n",
        "\n",
        "employees = [fulltime_emp, parttime_emp]\n",
        "\n",
        "for employee in employees:\n",
        "  address = employee.emp_address\n",
        "  print(f\"{employee.emp_name}'s address: {address}\")\n",
        "\n",
        "salaries = []\n",
        "salaries.append(Salary(\"S123\", 1500, \"2023-12-31\", 20))\n",
        "salaries.append(Salary(\"S456\", 500, \"2023-12-31\", 10))\n",
        "\n",
        "for salary in salaries:\n",
        "  print(f\"Salary ID: {salary.salary_id}\")\n",
        "  print(f\"Salary: {salary.salary}\")\n",
        "  print(f\"Cut-off Date: {salary.cut_off_date}\")\n",
        "  print(f\"Days of Work: {salary.days_of_work}\")"
      ]
    },
    {
      "cell_type": "code",
      "source": [],
      "metadata": {
        "colab": {
          "base_uri": "https://localhost:8080/"
        },
        "id": "UX-ajTGCqSZu",
        "outputId": "ee4277f3-ac1e-41a5-ff5f-7f1468c9d95e"
      },
      "execution_count": 2,
      "outputs": [
        {
          "output_type": "stream",
          "name": "stdout",
          "text": [
            "John Doe's salary: 1050\n",
            "Jane Smith's salary: 25\n",
            "Salary ID: S123\n",
            "Salary: 1500\n",
            "Cut-off Date: 2023-12-31\n",
            "Days of Work: 20\n",
            "Salary ID: S456\n",
            "Salary: 500\n",
            "Cut-off Date: 2023-12-31\n",
            "Days of Work: 10\n"
          ]
        }
      ]
    }
  ]
}